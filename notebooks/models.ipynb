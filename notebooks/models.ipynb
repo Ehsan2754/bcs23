{
 "cells": [
  {
   "cell_type": "code",
   "execution_count": 100,
   "metadata": {},
   "outputs": [
    {
     "data": {
      "text/plain": [
       "tensor([[1.],\n",
       "        [0.],\n",
       "        [0.],\n",
       "        [0.],\n",
       "        [0.],\n",
       "        [0.],\n",
       "        [0.],\n",
       "        [0.],\n",
       "        [0.],\n",
       "        [0.]])"
      ]
     },
     "execution_count": 100,
     "metadata": {},
     "output_type": "execute_result"
    }
   ],
   "source": [
    "import numpy as np\n",
    "import torch\n",
    "import torch.nn as nn\n",
    "from svdnet.dataset import *\n",
    "\n",
    "\n",
    "superspace_d = 10\n",
    "subspace_d = 5\n",
    "\n",
    "n_basis = int(1e4)\n",
    "n_samples = int(1e4)\n",
    "dataset = []\n",
    "# Generate the true basis vectors of the lower-dimensional subspace\n",
    "basis = torch.randn(n_basis, subspace_d)\n",
    "# Generate random points in the larger subspace\n",
    "for base_index in range(n_basis):\n",
    "    points = torch.randn(n_samples,subspace_d)\n",
    "    # print(basis[base_index],points.size())\n",
    "    # projections = points - (points @ basis[base_index]) * basis[base_index]\n",
    "    # projections = projections / torch.norm(projections, dim=1, keepdim=True)\n",
    "    # dataset.append(projections)\n",
    "normal = torch.tensor([1.0, 0.0, 0.0, 0.0, 0.0, 0.0, 0.0, 0.0, 0.0, 0.0], dtype=torch.float)\n",
    "points = torch.randn(1000, 10)\n",
    "points - (points @ normal.unsqueeze(1)) * normal\n",
    "\n",
    "\n",
    "\n",
    "# Normalize the points\n",
    "# points = (points - points.mean(axis=0)) / points.std(axis=0)\n",
    "\n",
    "# # Split the data into training, validation, and test sets\n",
    "# train_points, val_points, test_points = map(\n",
    "#     lambda x: torch.from_numpy(x), np.split(points, [70,80]))\n",
    "# train_basis, val_basis, test_basis = map(\n",
    "#     lambda x: torch.from_numpy(x), np.split(basis, [70,80]))\n",
    "# print(dataset[0])\n",
    "normal.unsqueeze(1)\n",
    "\n"
   ]
  },
  {
   "cell_type": "code",
   "execution_count": 76,
   "metadata": {},
   "outputs": [],
   "source": [
    "\n",
    "class BasisModel(nn.Module):\n",
    "  def __init__(self, input_size, output_size):\n",
    "    super(BasisModel, self).__init__()\n",
    "    self.fc1 = nn.Linear(input_size, 32)\n",
    "    self.fc2 = nn.Linear(32, 16)\n",
    "    self.fc3 = nn.Linear(16, output_size)\n",
    "\n",
    "  def forward(self, x):\n",
    "    x = x.to(self.fc1.weight.dtype)\n",
    "    x = self.fc1(x)\n",
    "    x = self.fc2(x)\n",
    "    x = self.fc3(x)\n",
    "    return x\n",
    "\n",
    "input_size = 10\n",
    "output_size = 5\n",
    "\n",
    "model = BasisModel(input_size, output_size)\n",
    "def mse_loss(pred, true):\n",
    "  return ((pred - true)**2).mean()\n",
    "\n",
    "loss_fn = mse_loss"
   ]
  },
  {
   "cell_type": "code",
   "execution_count": 85,
   "metadata": {},
   "outputs": [
    {
     "data": {
      "image/png": "[encoded data removed]",
      "text/plain": [
       "<Figure size 640x480 with 1 Axes>"
      ]
     },
     "metadata": {},
     "output_type": "display_data"
    }
   ],
   "source": [
    "import torch.optim as optim\n",
    "\n",
    "optimizer = optim.Adam(model.parameters())\n",
    "val_losses=[]\n",
    "losses=[]\n",
    "import matplotlib.pyplot as plt\n",
    "# Training loop\n",
    "for epoch in range(100):\n",
    "  # Zero the gradients\n",
    "  optimizer.zero_grad()\n",
    "\n",
    "  # Forward pass\n",
    "  predictions = model(train_points)\n",
    "\n",
    "  # Compute the loss\n",
    "  loss = loss_fn(predictions, train_basis)\n",
    "\n",
    "  # Backward pass\n",
    "  loss.backward()\n",
    "\n",
    "  # Update the parameters\n",
    "  optimizer.step()\n",
    "\n",
    "  # Evaluate the model on the validation set\n",
    "  val_predictions = model(val_points)\n",
    "  val_loss = loss_fn(val_predictions, val_basis)\n",
    "\n",
    "  # Print the loss and validation loss\n",
    "  # print(f'Epoch {epoch+1}: loss = {loss:.3f}, val_loss = {val_loss:.3f}')\n",
    "  val_losses.append(val_loss)\n",
    "  losses.append(loss)\n",
    "plt.plot(torch.tensor(val_losses),label='val')\n",
    "plt.plot(torch.tensor(losses),label='test')\n",
    "plt.legend()\n",
    "plt.show()\n",
    "\n"
   ]
  }
 ],
 "metadata": {
  "kernelspec": {
   "display_name": "Python 3",
   "language": "python",
   "name": "python3"
  },
  "language_info": {
   "codemirror_mode": {
    "name": "ipython",
    "version": 3
   },
   "file_extension": ".py",
   "mimetype": "text/x-python",
   "name": "python",
   "nbconvert_exporter": "python",
   "pygments_lexer": "ipython3",
   "version": "3.10.6 (main, Nov 14 2022, 16:10:14) [GCC 11.3.0]"
  },
  "orig_nbformat": 4,
  "vscode": {
   "interpreter": {
    "hash": "e7370f93d1d0cde622a1f8e1c04877d8463912d04d973331ad4851f04de6915a"
   }
  }
 },
 "nbformat": 4,
 "nbformat_minor": 2
}
